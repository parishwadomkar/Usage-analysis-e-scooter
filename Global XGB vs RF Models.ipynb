{
 "cells": [
  {
   "cell_type": "code",
   "execution_count": 1,
   "id": "ba56bf0e",
   "metadata": {
    "ExecuteTime": {
     "end_time": "2023-05-11T15:00:51.500596Z",
     "start_time": "2023-05-11T15:00:49.842881Z"
    }
   },
   "outputs": [],
   "source": [
    "import os\n",
    "import sys\n",
    "import pandas as pd\n",
    "import matplotlib.pyplot as plt\n",
    "import numpy as np\n",
    "import seaborn as sns\n",
    "import warnings\n",
    "from scipy.stats import randint\n",
    "from tqdm import tqdm\n",
    "from xgboost import XGBRegressor\n",
    "from statsmodels.stats.outliers_influence import variance_inflation_factor\n",
    "from sklearn.model_selection import train_test_split, RandomizedSearchCV, KFold, cross_val_score\n",
    "from sklearn.datasets import make_regression\n",
    "from sklearn.ensemble import RandomForestRegressor as rf\n",
    "from sklearn.preprocessing import LabelEncoder\n",
    "from sklearn.metrics import mean_squared_error, r2_score"
   ]
  },
  {
   "cell_type": "code",
   "execution_count": 2,
   "id": "fd7c3f42",
   "metadata": {
    "ExecuteTime": {
     "end_time": "2023-05-11T15:00:51.620967Z",
     "start_time": "2023-05-11T15:00:51.500596Z"
    }
   },
   "outputs": [
    {
     "data": {
      "text/html": [
       "<div>\n",
       "<style scoped>\n",
       "    .dataframe tbody tr th:only-of-type {\n",
       "        vertical-align: middle;\n",
       "    }\n",
       "\n",
       "    .dataframe tbody tr th {\n",
       "        vertical-align: top;\n",
       "    }\n",
       "\n",
       "    .dataframe thead th {\n",
       "        text-align: right;\n",
       "    }\n",
       "</style>\n",
       "<table border=\"1\" class=\"dataframe\">\n",
       "  <thead>\n",
       "    <tr style=\"text-align: right;\">\n",
       "      <th></th>\n",
       "      <th>FID_grid</th>\n",
       "      <th>day</th>\n",
       "      <th>month</th>\n",
       "      <th>count_trips</th>\n",
       "      <th>M19</th>\n",
       "      <th>F19</th>\n",
       "      <th>MEmpl</th>\n",
       "      <th>FEmpl</th>\n",
       "      <th>Empl</th>\n",
       "      <th>Pop22</th>\n",
       "      <th>...</th>\n",
       "      <th>LUP_Other</th>\n",
       "      <th>T_Other</th>\n",
       "      <th>AreaProx</th>\n",
       "      <th>Rd_Resi</th>\n",
       "      <th>Rd_Arte</th>\n",
       "      <th>Rd_Comml</th>\n",
       "      <th>Rd_Cyc</th>\n",
       "      <th>Rd_Pedes</th>\n",
       "      <th>Rd_Other</th>\n",
       "      <th>encOrigin</th>\n",
       "    </tr>\n",
       "  </thead>\n",
       "  <tbody>\n",
       "    <tr>\n",
       "      <th>0</th>\n",
       "      <td>10</td>\n",
       "      <td>6</td>\n",
       "      <td>4</td>\n",
       "      <td>8</td>\n",
       "      <td>436.0</td>\n",
       "      <td>451.0</td>\n",
       "      <td>404.0</td>\n",
       "      <td>404.0</td>\n",
       "      <td>809.0</td>\n",
       "      <td>887.0</td>\n",
       "      <td>...</td>\n",
       "      <td>0.0</td>\n",
       "      <td>0.0</td>\n",
       "      <td>660104.976827</td>\n",
       "      <td>1493.721609</td>\n",
       "      <td>1493.721609</td>\n",
       "      <td>1493.721609</td>\n",
       "      <td>1493.721609</td>\n",
       "      <td>1493.721609</td>\n",
       "      <td>1493.721609</td>\n",
       "      <td>0</td>\n",
       "    </tr>\n",
       "    <tr>\n",
       "      <th>1</th>\n",
       "      <td>10</td>\n",
       "      <td>5</td>\n",
       "      <td>4</td>\n",
       "      <td>6</td>\n",
       "      <td>436.0</td>\n",
       "      <td>451.0</td>\n",
       "      <td>404.0</td>\n",
       "      <td>404.0</td>\n",
       "      <td>809.0</td>\n",
       "      <td>887.0</td>\n",
       "      <td>...</td>\n",
       "      <td>0.0</td>\n",
       "      <td>0.0</td>\n",
       "      <td>660104.976827</td>\n",
       "      <td>1493.721609</td>\n",
       "      <td>1493.721609</td>\n",
       "      <td>1493.721609</td>\n",
       "      <td>1493.721609</td>\n",
       "      <td>1493.721609</td>\n",
       "      <td>1493.721609</td>\n",
       "      <td>0</td>\n",
       "    </tr>\n",
       "    <tr>\n",
       "      <th>2</th>\n",
       "      <td>10</td>\n",
       "      <td>2</td>\n",
       "      <td>4</td>\n",
       "      <td>14</td>\n",
       "      <td>436.0</td>\n",
       "      <td>451.0</td>\n",
       "      <td>404.0</td>\n",
       "      <td>404.0</td>\n",
       "      <td>809.0</td>\n",
       "      <td>887.0</td>\n",
       "      <td>...</td>\n",
       "      <td>0.0</td>\n",
       "      <td>0.0</td>\n",
       "      <td>660104.976827</td>\n",
       "      <td>1493.721609</td>\n",
       "      <td>1493.721609</td>\n",
       "      <td>1493.721609</td>\n",
       "      <td>1493.721609</td>\n",
       "      <td>1493.721609</td>\n",
       "      <td>1493.721609</td>\n",
       "      <td>0</td>\n",
       "    </tr>\n",
       "    <tr>\n",
       "      <th>3</th>\n",
       "      <td>10</td>\n",
       "      <td>0</td>\n",
       "      <td>4</td>\n",
       "      <td>7</td>\n",
       "      <td>436.0</td>\n",
       "      <td>451.0</td>\n",
       "      <td>404.0</td>\n",
       "      <td>404.0</td>\n",
       "      <td>809.0</td>\n",
       "      <td>887.0</td>\n",
       "      <td>...</td>\n",
       "      <td>0.0</td>\n",
       "      <td>0.0</td>\n",
       "      <td>660104.976827</td>\n",
       "      <td>1493.721609</td>\n",
       "      <td>1493.721609</td>\n",
       "      <td>1493.721609</td>\n",
       "      <td>1493.721609</td>\n",
       "      <td>1493.721609</td>\n",
       "      <td>1493.721609</td>\n",
       "      <td>0</td>\n",
       "    </tr>\n",
       "    <tr>\n",
       "      <th>4</th>\n",
       "      <td>10</td>\n",
       "      <td>4</td>\n",
       "      <td>4</td>\n",
       "      <td>8</td>\n",
       "      <td>436.0</td>\n",
       "      <td>451.0</td>\n",
       "      <td>404.0</td>\n",
       "      <td>404.0</td>\n",
       "      <td>809.0</td>\n",
       "      <td>887.0</td>\n",
       "      <td>...</td>\n",
       "      <td>0.0</td>\n",
       "      <td>0.0</td>\n",
       "      <td>660104.976827</td>\n",
       "      <td>1493.721609</td>\n",
       "      <td>1493.721609</td>\n",
       "      <td>1493.721609</td>\n",
       "      <td>1493.721609</td>\n",
       "      <td>1493.721609</td>\n",
       "      <td>1493.721609</td>\n",
       "      <td>0</td>\n",
       "    </tr>\n",
       "    <tr>\n",
       "      <th>...</th>\n",
       "      <td>...</td>\n",
       "      <td>...</td>\n",
       "      <td>...</td>\n",
       "      <td>...</td>\n",
       "      <td>...</td>\n",
       "      <td>...</td>\n",
       "      <td>...</td>\n",
       "      <td>...</td>\n",
       "      <td>...</td>\n",
       "      <td>...</td>\n",
       "      <td>...</td>\n",
       "      <td>...</td>\n",
       "      <td>...</td>\n",
       "      <td>...</td>\n",
       "      <td>...</td>\n",
       "      <td>...</td>\n",
       "      <td>...</td>\n",
       "      <td>...</td>\n",
       "      <td>...</td>\n",
       "      <td>...</td>\n",
       "      <td>...</td>\n",
       "    </tr>\n",
       "    <tr>\n",
       "      <th>23679</th>\n",
       "      <td>897</td>\n",
       "      <td>2</td>\n",
       "      <td>5</td>\n",
       "      <td>27</td>\n",
       "      <td>252.0</td>\n",
       "      <td>257.0</td>\n",
       "      <td>238.0</td>\n",
       "      <td>242.0</td>\n",
       "      <td>479.0</td>\n",
       "      <td>509.0</td>\n",
       "      <td>...</td>\n",
       "      <td>0.0</td>\n",
       "      <td>0.0</td>\n",
       "      <td>934415.974984</td>\n",
       "      <td>289.766536</td>\n",
       "      <td>289.766536</td>\n",
       "      <td>289.766536</td>\n",
       "      <td>289.766536</td>\n",
       "      <td>289.766536</td>\n",
       "      <td>289.766536</td>\n",
       "      <td>467</td>\n",
       "    </tr>\n",
       "    <tr>\n",
       "      <th>23680</th>\n",
       "      <td>897</td>\n",
       "      <td>2</td>\n",
       "      <td>11</td>\n",
       "      <td>23</td>\n",
       "      <td>252.0</td>\n",
       "      <td>257.0</td>\n",
       "      <td>238.0</td>\n",
       "      <td>242.0</td>\n",
       "      <td>479.0</td>\n",
       "      <td>509.0</td>\n",
       "      <td>...</td>\n",
       "      <td>0.0</td>\n",
       "      <td>0.0</td>\n",
       "      <td>934415.974984</td>\n",
       "      <td>289.766536</td>\n",
       "      <td>289.766536</td>\n",
       "      <td>289.766536</td>\n",
       "      <td>289.766536</td>\n",
       "      <td>289.766536</td>\n",
       "      <td>289.766536</td>\n",
       "      <td>467</td>\n",
       "    </tr>\n",
       "    <tr>\n",
       "      <th>23681</th>\n",
       "      <td>897</td>\n",
       "      <td>3</td>\n",
       "      <td>1</td>\n",
       "      <td>33</td>\n",
       "      <td>252.0</td>\n",
       "      <td>257.0</td>\n",
       "      <td>238.0</td>\n",
       "      <td>242.0</td>\n",
       "      <td>479.0</td>\n",
       "      <td>509.0</td>\n",
       "      <td>...</td>\n",
       "      <td>0.0</td>\n",
       "      <td>0.0</td>\n",
       "      <td>934415.974984</td>\n",
       "      <td>289.766536</td>\n",
       "      <td>289.766536</td>\n",
       "      <td>289.766536</td>\n",
       "      <td>289.766536</td>\n",
       "      <td>289.766536</td>\n",
       "      <td>289.766536</td>\n",
       "      <td>467</td>\n",
       "    </tr>\n",
       "    <tr>\n",
       "      <th>23682</th>\n",
       "      <td>897</td>\n",
       "      <td>3</td>\n",
       "      <td>5</td>\n",
       "      <td>33</td>\n",
       "      <td>252.0</td>\n",
       "      <td>257.0</td>\n",
       "      <td>238.0</td>\n",
       "      <td>242.0</td>\n",
       "      <td>479.0</td>\n",
       "      <td>509.0</td>\n",
       "      <td>...</td>\n",
       "      <td>0.0</td>\n",
       "      <td>0.0</td>\n",
       "      <td>934415.974984</td>\n",
       "      <td>289.766536</td>\n",
       "      <td>289.766536</td>\n",
       "      <td>289.766536</td>\n",
       "      <td>289.766536</td>\n",
       "      <td>289.766536</td>\n",
       "      <td>289.766536</td>\n",
       "      <td>467</td>\n",
       "    </tr>\n",
       "    <tr>\n",
       "      <th>23683</th>\n",
       "      <td>897</td>\n",
       "      <td>3</td>\n",
       "      <td>6</td>\n",
       "      <td>20</td>\n",
       "      <td>252.0</td>\n",
       "      <td>257.0</td>\n",
       "      <td>238.0</td>\n",
       "      <td>242.0</td>\n",
       "      <td>479.0</td>\n",
       "      <td>509.0</td>\n",
       "      <td>...</td>\n",
       "      <td>0.0</td>\n",
       "      <td>0.0</td>\n",
       "      <td>934415.974984</td>\n",
       "      <td>289.766536</td>\n",
       "      <td>289.766536</td>\n",
       "      <td>289.766536</td>\n",
       "      <td>289.766536</td>\n",
       "      <td>289.766536</td>\n",
       "      <td>289.766536</td>\n",
       "      <td>467</td>\n",
       "    </tr>\n",
       "  </tbody>\n",
       "</table>\n",
       "<p>23684 rows × 30 columns</p>\n",
       "</div>"
      ],
      "text/plain": [
       "       FID_grid  day  month  count_trips    M19    F19  MEmpl  FEmpl   Empl  \\\n",
       "0            10    6      4            8  436.0  451.0  404.0  404.0  809.0   \n",
       "1            10    5      4            6  436.0  451.0  404.0  404.0  809.0   \n",
       "2            10    2      4           14  436.0  451.0  404.0  404.0  809.0   \n",
       "3            10    0      4            7  436.0  451.0  404.0  404.0  809.0   \n",
       "4            10    4      4            8  436.0  451.0  404.0  404.0  809.0   \n",
       "...         ...  ...    ...          ...    ...    ...    ...    ...    ...   \n",
       "23679       897    2      5           27  252.0  257.0  238.0  242.0  479.0   \n",
       "23680       897    2     11           23  252.0  257.0  238.0  242.0  479.0   \n",
       "23681       897    3      1           33  252.0  257.0  238.0  242.0  479.0   \n",
       "23682       897    3      5           33  252.0  257.0  238.0  242.0  479.0   \n",
       "23683       897    3      6           20  252.0  257.0  238.0  242.0  479.0   \n",
       "\n",
       "       Pop22  ...  LUP_Other  T_Other       AreaProx      Rd_Resi  \\\n",
       "0      887.0  ...        0.0      0.0  660104.976827  1493.721609   \n",
       "1      887.0  ...        0.0      0.0  660104.976827  1493.721609   \n",
       "2      887.0  ...        0.0      0.0  660104.976827  1493.721609   \n",
       "3      887.0  ...        0.0      0.0  660104.976827  1493.721609   \n",
       "4      887.0  ...        0.0      0.0  660104.976827  1493.721609   \n",
       "...      ...  ...        ...      ...            ...          ...   \n",
       "23679  509.0  ...        0.0      0.0  934415.974984   289.766536   \n",
       "23680  509.0  ...        0.0      0.0  934415.974984   289.766536   \n",
       "23681  509.0  ...        0.0      0.0  934415.974984   289.766536   \n",
       "23682  509.0  ...        0.0      0.0  934415.974984   289.766536   \n",
       "23683  509.0  ...        0.0      0.0  934415.974984   289.766536   \n",
       "\n",
       "           Rd_Arte     Rd_Comml       Rd_Cyc     Rd_Pedes     Rd_Other  \\\n",
       "0      1493.721609  1493.721609  1493.721609  1493.721609  1493.721609   \n",
       "1      1493.721609  1493.721609  1493.721609  1493.721609  1493.721609   \n",
       "2      1493.721609  1493.721609  1493.721609  1493.721609  1493.721609   \n",
       "3      1493.721609  1493.721609  1493.721609  1493.721609  1493.721609   \n",
       "4      1493.721609  1493.721609  1493.721609  1493.721609  1493.721609   \n",
       "...            ...          ...          ...          ...          ...   \n",
       "23679   289.766536   289.766536   289.766536   289.766536   289.766536   \n",
       "23680   289.766536   289.766536   289.766536   289.766536   289.766536   \n",
       "23681   289.766536   289.766536   289.766536   289.766536   289.766536   \n",
       "23682   289.766536   289.766536   289.766536   289.766536   289.766536   \n",
       "23683   289.766536   289.766536   289.766536   289.766536   289.766536   \n",
       "\n",
       "       encOrigin  \n",
       "0              0  \n",
       "1              0  \n",
       "2              0  \n",
       "3              0  \n",
       "4              0  \n",
       "...          ...  \n",
       "23679        467  \n",
       "23680        467  \n",
       "23681        467  \n",
       "23682        467  \n",
       "23683        467  \n",
       "\n",
       "[23684 rows x 30 columns]"
      ]
     },
     "execution_count": 2,
     "metadata": {},
     "output_type": "execute_result"
    }
   ],
   "source": [
    "os.chdir('C:\\\\Users\\\\omkarp\\\\Downloads\\\\Python\\\\Stockholm\\\\')\n",
    "data = pd.read_csv('Data.csv')\n",
    "data = data.drop(columns=['mean_distance', 'mean_time'])\n",
    "data = data.dropna()\n",
    "data = data.reset_index(drop=True)\n",
    "# Convert 'day' and 'month' columns to categorical\n",
    "data['day'] = data['day'].astype('category')\n",
    "data['month'] = data['month'].astype('category')\n",
    "# Encode 'FID_grid' as a categorical variable\n",
    "le = LabelEncoder()\n",
    "data['encOrigin'] = le.fit_transform(data['FID_grid'])\n",
    "data['day'] = le.fit_transform(data['day'])\n",
    "data['month'] = le.fit_transform(data['month'])\n",
    "data"
   ]
  },
  {
   "cell_type": "markdown",
   "id": "f763c5e0",
   "metadata": {
    "ExecuteTime": {
     "end_time": "2023-05-08T13:35:58.659341Z",
     "start_time": "2023-05-08T13:35:58.645306Z"
    }
   },
   "source": [
    "# Feature Selection"
   ]
  },
  {
   "cell_type": "code",
   "execution_count": 3,
   "id": "5cee7a4c",
   "metadata": {
    "ExecuteTime": {
     "end_time": "2023-05-11T15:00:51.643931Z",
     "start_time": "2023-05-11T15:00:51.621968Z"
    }
   },
   "outputs": [
    {
     "name": "stdout",
     "output_type": "stream",
     "text": [
      "<class 'pandas.core.frame.DataFrame'>\n",
      "RangeIndex: 23684 entries, 0 to 23683\n",
      "Data columns (total 30 columns):\n",
      " #   Column       Non-Null Count  Dtype  \n",
      "---  ------       --------------  -----  \n",
      " 0   FID_grid     23684 non-null  int64  \n",
      " 1   day          23684 non-null  int32  \n",
      " 2   month        23684 non-null  int32  \n",
      " 3   count_trips  23684 non-null  int64  \n",
      " 4   M19          23684 non-null  float64\n",
      " 5   F19          23684 non-null  float64\n",
      " 6   MEmpl        23684 non-null  float64\n",
      " 7   FEmpl        23684 non-null  float64\n",
      " 8   Empl         23684 non-null  float64\n",
      " 9   Pop22        23684 non-null  float64\n",
      " 10  Inc          23684 non-null  float64\n",
      " 11  Veh          23684 non-null  float64\n",
      " 12  LUP_Resi     23684 non-null  float64\n",
      " 13  LUP_Comm     23684 non-null  float64\n",
      " 14  LUP_Edu      23684 non-null  float64\n",
      " 15  LUP_Recre    23684 non-null  float64\n",
      " 16  LUP_Public   23684 non-null  float64\n",
      " 17  LUP_Health   23684 non-null  float64\n",
      " 18  T_Enable     23684 non-null  float64\n",
      " 19  T_Hinder     23684 non-null  float64\n",
      " 20  LUP_Other    23684 non-null  float64\n",
      " 21  T_Other      23684 non-null  float64\n",
      " 22  AreaProx     23684 non-null  float64\n",
      " 23  Rd_Resi      23684 non-null  float64\n",
      " 24  Rd_Arte      23684 non-null  float64\n",
      " 25  Rd_Comml     23684 non-null  float64\n",
      " 26  Rd_Cyc       23684 non-null  float64\n",
      " 27  Rd_Pedes     23684 non-null  float64\n",
      " 28  Rd_Other     23684 non-null  float64\n",
      " 29  encOrigin    23684 non-null  int64  \n",
      "dtypes: float64(25), int32(2), int64(3)\n",
      "memory usage: 5.2 MB\n"
     ]
    }
   ],
   "source": [
    "data.info()"
   ]
  },
  {
   "cell_type": "code",
   "execution_count": 4,
   "id": "bb624291",
   "metadata": {
    "ExecuteTime": {
     "end_time": "2023-05-11T15:00:51.658923Z",
     "start_time": "2023-05-11T15:00:51.643931Z"
    }
   },
   "outputs": [
    {
     "data": {
      "text/plain": [
       "Index(['FID_grid', 'day', 'month', 'count_trips', 'M19', 'F19', 'MEmpl',\n",
       "       'FEmpl', 'Empl', 'Pop22', 'Inc', 'Veh', 'LUP_Resi', 'LUP_Comm',\n",
       "       'LUP_Edu', 'LUP_Recre', 'LUP_Public', 'LUP_Health', 'T_Enable',\n",
       "       'T_Hinder', 'LUP_Other', 'T_Other', 'AreaProx', 'Rd_Resi', 'Rd_Arte',\n",
       "       'Rd_Comml', 'Rd_Cyc', 'Rd_Pedes', 'Rd_Other', 'encOrigin'],\n",
       "      dtype='object')"
      ]
     },
     "execution_count": 4,
     "metadata": {},
     "output_type": "execute_result"
    }
   ],
   "source": [
    "data.columns"
   ]
  },
  {
   "cell_type": "code",
   "execution_count": 5,
   "id": "7a96a00b",
   "metadata": {
    "ExecuteTime": {
     "end_time": "2023-05-11T15:00:52.062290Z",
     "start_time": "2023-05-11T15:00:51.658923Z"
    }
   },
   "outputs": [
    {
     "name": "stdout",
     "output_type": "stream",
     "text": [
      "98.83482519844621\n",
      "42.0\n"
     ]
    },
    {
     "data": {
      "text/plain": [
       "<Axes: xlabel='count_trips', ylabel='Count'>"
      ]
     },
     "execution_count": 5,
     "metadata": {},
     "output_type": "execute_result"
    },
    {
     "data": {
      "image/png": "[encoded data removed]",
      "text/plain": [
       "<Figure size 640x480 with 1 Axes>"
      ]
     },
     "metadata": {},
     "output_type": "display_data"
    }
   ],
   "source": [
    "print(data['count_trips'].mean())\n",
    "print(data['count_trips'].median())\n",
    "sns.histplot(data['count_trips'])"
   ]
  },
  {
   "cell_type": "markdown",
   "id": "2f5d5d2a",
   "metadata": {},
   "source": [
    "## Feature Importance"
   ]
  },
  {
   "cell_type": "code",
   "execution_count": 6,
   "id": "86bed2f2",
   "metadata": {
    "ExecuteTime": {
     "end_time": "2023-05-11T15:00:52.823452Z",
     "start_time": "2023-05-11T15:00:52.064289Z"
    }
   },
   "outputs": [
    {
     "name": "stdout",
     "output_type": "stream",
     "text": [
      "25\n"
     ]
    },
    {
     "data": {
      "image/png": "[encoded data removed]",
      "text/plain": [
       "<Figure size 1000x600 with 1 Axes>"
      ]
     },
     "metadata": {},
     "output_type": "display_data"
    }
   ],
   "source": [
    "# Check feature Importance to eliminate features\n",
    "categorical_cols = ['FID_grid', 'day', 'month']\n",
    "# spatial_cols = ['x', 'y']\n",
    "dependent_var = 'count_trips'\n",
    "independent_cols = ['M19', 'F19', 'MEmpl', 'FEmpl', 'Empl', 'Pop22', 'Inc', 'Veh',\n",
    "                 'LUP_Resi', 'LUP_Comm', 'LUP_Edu', 'LUP_Recre', 'LUP_Public','LUP_Health', 'T_Enable', 'T_Hinder',\n",
    "                 'LUP_Other', 'T_Other','AreaProx', 'Rd_Resi', 'Rd_Arte', 'Rd_Comml', 'Rd_Cyc', 'Rd_Pedes','Rd_Other']\n",
    "\n",
    "data = data[categorical_cols +  [dependent_var] + independent_cols]\n",
    "data.reset_index(drop=True, inplace=True)\n",
    "X = data.drop(\"count_trips\", axis=1) # features\n",
    "y = data[\"count_trips\"] # target variable\n",
    "# Generate feature importance\n",
    "X, y = make_regression(n_samples=100, n_features=25, random_state=42)\n",
    "\n",
    "# Train a spatial random forest model\n",
    "xgb = XGBRegressor(n_estimators=100, max_depth=10, random_state=42)\n",
    "xgb.fit(X, y)\n",
    "\n",
    "# Calculate feature importance\n",
    "feature_importance = xgb.feature_importances_\n",
    "feature_names = ['FID_grid', 'day', 'month','M19', 'F19', 'MEmpl', 'FEmpl', 'Empl', 'Pop22', 'Inc', 'Veh',\n",
    "                 'LUP_Resi', 'LUP_Comm', 'LUP_Edu', 'LUP_Recre', 'LUP_Public','LUP_Health', 'T_Enable', 'T_Hinder',\n",
    "                 'LUP_Other', 'T_Other','AreaProx', 'Rd_Resi', 'Rd_Arte', 'Rd_Comml', 'Rd_Cyc', 'Rd_Pedes','Rd_Other']\n",
    "# Create a dictionary with feature names and their corresponding importance scores\n",
    "feature_importance_dict = dict(zip(feature_names, feature_importance))\n",
    "\n",
    "# Sort the dictionary in descending order of importance scores\n",
    "sorted_dict = dict(sorted(feature_importance_dict.items(), key=lambda x: x[1], reverse=True))\n",
    "\n",
    "# Extract the feature names and importance scores in separate lists\n",
    "sorted_feature_names = list(sorted_dict.keys())\n",
    "sorted_feature_importance = list(sorted_dict.values())\n",
    "print(len(sorted_feature_names))\n",
    "\n",
    "plt.figure(figsize=(10,6))\n",
    "plt.barh(y=range(len(sorted_feature_importance)), width=sorted_feature_importance, height=0.7, align='center')\n",
    "plt.yticks(range(len(sorted_feature_names)), sorted_feature_names)\n",
    "plt.xlabel('Importance score')\n",
    "plt.ylabel('Feature')\n",
    "plt.show()"
   ]
  },
  {
   "cell_type": "markdown",
   "id": "e55e9bd5",
   "metadata": {},
   "source": [
    "## VIF (variance_inflation_factor)"
   ]
  },
  {
   "cell_type": "code",
   "execution_count": 7,
   "id": "a3fd177d",
   "metadata": {
    "ExecuteTime": {
     "end_time": "2023-05-11T15:00:53.645508Z",
     "start_time": "2023-05-11T15:00:52.825452Z"
    }
   },
   "outputs": [
    {
     "name": "stdout",
     "output_type": "stream",
     "text": [
      "   feature        VIF\n",
      "     Pop22 7173388.27\n",
      "      Empl 5903078.69\n",
      "       F19 1809293.09\n",
      "       M19 1784333.61\n",
      "     FEmpl 1498335.40\n",
      "     MEmpl 1462967.46\n",
      "       Veh      57.31\n",
      "       Inc       9.96\n",
      "   Rd_Arte       5.20\n",
      "  AreaProx       4.66\n",
      "  FID_grid       4.62\n",
      "     month       3.22\n",
      "       day       2.82\n",
      "  T_Enable       1.23\n",
      " LUP_Recre       1.23\n",
      "  LUP_Resi       1.19\n",
      "  LUP_Comm       1.16\n",
      "  T_Hinder       1.15\n",
      "LUP_Public       1.13\n",
      " LUP_Other       1.13\n",
      "   LUP_Edu       1.10\n",
      "   T_Other       1.07\n",
      "LUP_Health       1.04\n"
     ]
    }
   ],
   "source": [
    "sorted_feature_names.remove('Rd_Comml')\n",
    "sorted_feature_names.remove('Rd_Resi')\n",
    "features_test = sorted_feature_names\n",
    "col_test = data[features_test]\n",
    "\n",
    "# VIF dataframe\n",
    "vif_data = pd.DataFrame()\n",
    "vif_data[\"feature\"] = col_test.columns\n",
    "# calculating VIF for each feature\n",
    "vif_data[\"VIF\"] = [variance_inflation_factor(col_test.values.astype(float), i)\n",
    "                          for i in range(len(col_test.columns))]\n",
    "\n",
    "vif_data = vif_data.sort_values(by=\"VIF\", ascending=False)\n",
    "print(vif_data.to_string(index=False, float_format='%.2f'))"
   ]
  },
  {
   "cell_type": "code",
   "execution_count": 8,
   "id": "66b45055",
   "metadata": {
    "ExecuteTime": {
     "end_time": "2023-05-11T15:00:53.670508Z",
     "start_time": "2023-05-11T15:00:53.648107Z"
    }
   },
   "outputs": [
    {
     "name": "stdout",
     "output_type": "stream",
     "text": [
      "17\n"
     ]
    },
    {
     "data": {
      "text/plain": [
       "['Pop22',\n",
       " 'Empl',\n",
       " 'F19',\n",
       " 'M19',\n",
       " 'FEmpl',\n",
       " 'MEmpl',\n",
       " 'Veh',\n",
       " 'Inc',\n",
       " 'Rd_Arte',\n",
       " 'AreaProx',\n",
       " 'FID_grid',\n",
       " 'month',\n",
       " 'day',\n",
       " 'T_Enable',\n",
       " 'LUP_Recre',\n",
       " 'LUP_Resi',\n",
       " 'LUP_Comm']"
      ]
     },
     "execution_count": 8,
     "metadata": {},
     "output_type": "execute_result"
    }
   ],
   "source": [
    "sorted_feature_names = vif_data[vif_data['VIF'] > 1.15]['feature']\n",
    "print(len(sorted_feature_names))\n",
    "sorted_feature_names=sorted_feature_names.tolist()\n",
    "sorted_feature_names"
   ]
  },
  {
   "cell_type": "code",
   "execution_count": 9,
   "id": "0bf14b47",
   "metadata": {
    "ExecuteTime": {
     "end_time": "2023-05-11T15:00:53.903370Z",
     "start_time": "2023-05-11T15:00:53.672509Z"
    }
   },
   "outputs": [
    {
     "name": "stderr",
     "output_type": "stream",
     "text": [
      "C:\\Users\\omkarp\\AppData\\Local\\Temp\\ipykernel_16172\\4048142416.py:12: DeprecationWarning: `np.bool` is a deprecated alias for the builtin `bool`. To silence this warning, use `bool` by itself. Doing this will not modify any behavior and is safe. If you specifically wanted the numpy scalar type, use `np.bool_` here.\n",
      "Deprecated in NumPy 1.20; for more details and guidance: https://numpy.org/devdocs/release/1.20.0-notes.html#deprecations\n",
      "  mask = np.triu(np.ones_like(corr, dtype=np.bool))\n"
     ]
    },
    {
     "data": {
      "text/plain": [
       "[Text(0, 0.5, 'Pop22'),\n",
       " Text(0, 1.5, 'Rd_Arte'),\n",
       " Text(0, 2.5, 'AreaProx'),\n",
       " Text(0, 3.5, 'FID_grid'),\n",
       " Text(0, 4.5, 'month'),\n",
       " Text(0, 5.5, 'day'),\n",
       " Text(0, 6.5, 'T_Enable'),\n",
       " Text(0, 7.5, 'LUP_Recre'),\n",
       " Text(0, 8.5, 'LUP_Resi'),\n",
       " Text(0, 9.5, 'LUP_Comm')]"
      ]
     },
     "execution_count": 9,
     "metadata": {},
     "output_type": "execute_result"
    },
    {
     "data": {
      "image/png": "[encoded data removed]",
      "text/plain": [
       "<Figure size 600x600 with 2 Axes>"
      ]
     },
     "metadata": {},
     "output_type": "display_data"
    }
   ],
   "source": [
    "features_1 = sorted_feature_names\n",
    "# Dropping all features that have a correlation higher than 60%\n",
    "features_1.remove('M19')\n",
    "features_1.remove('F19')\n",
    "features_1.remove('MEmpl')\n",
    "features_1.remove('FEmpl')\n",
    "features_1.remove('Empl')\n",
    "features_1.remove('Inc')\n",
    "features_1.remove('Veh')\n",
    "\n",
    "corr = data[features_1].corr('spearman')\n",
    "mask = np.triu(np.ones_like(corr, dtype=np.bool))\n",
    "f, ax = plt.subplots(figsize=(6, 6))\n",
    "cmap = sns.diverging_palette(150, 275, s=80, l=55, n=9, as_cmap=True)\n",
    "g = sns.heatmap(corr, mask=mask, cmap=cmap, vmax=None, center=0,square=True,linewidths=.5, cbar_kws={\"shrink\": 1})\n",
    "g.set_xticklabels(g.get_xmajorticklabels(), fontsize = 10)\n",
    "g.set_yticklabels(g.get_ymajorticklabels(), fontsize = 10)"
   ]
  },
  {
   "cell_type": "code",
   "execution_count": 10,
   "id": "07934832",
   "metadata": {
    "ExecuteTime": {
     "end_time": "2023-05-11T15:00:53.923474Z",
     "start_time": "2023-05-11T15:00:53.906371Z"
    }
   },
   "outputs": [
    {
     "name": "stdout",
     "output_type": "stream",
     "text": [
      "10\n"
     ]
    },
    {
     "data": {
      "text/plain": [
       "['Pop22',\n",
       " 'Rd_Arte',\n",
       " 'AreaProx',\n",
       " 'FID_grid',\n",
       " 'month',\n",
       " 'day',\n",
       " 'T_Enable',\n",
       " 'LUP_Recre',\n",
       " 'LUP_Resi',\n",
       " 'LUP_Comm']"
      ]
     },
     "execution_count": 10,
     "metadata": {},
     "output_type": "execute_result"
    }
   ],
   "source": [
    "print(len(features_1))\n",
    "X = data[features_1].values\n",
    "y = data['count_trips'].values\n",
    "features_1"
   ]
  },
  {
   "cell_type": "markdown",
   "id": "fa8ef3c3",
   "metadata": {
    "ExecuteTime": {
     "end_time": "2023-05-08T07:37:10.495346Z",
     "start_time": "2023-05-08T07:37:10.425188Z"
    }
   },
   "source": [
    "# XG-Boost Model"
   ]
  },
  {
   "cell_type": "code",
   "execution_count": 11,
   "id": "41d383d7",
   "metadata": {
    "ExecuteTime": {
     "end_time": "2023-05-11T15:00:53.938659Z",
     "start_time": "2023-05-11T15:00:53.925903Z"
    }
   },
   "outputs": [],
   "source": [
    "x_train, x_test, y_train, y_test=train_test_split(X, y, test_size=0.2)"
   ]
  },
  {
   "cell_type": "code",
   "execution_count": 12,
   "id": "5319217b",
   "metadata": {
    "ExecuteTime": {
     "end_time": "2023-05-11T15:00:54.420486Z",
     "start_time": "2023-05-11T15:00:53.940997Z"
    }
   },
   "outputs": [
    {
     "data": {
      "text/plain": [
       "array([112.87659 ,  75.34737 ,  34.133327, ...,  84.03876 ,  15.693939,\n",
       "        48.62337 ], dtype=float32)"
      ]
     },
     "execution_count": 12,
     "metadata": {},
     "output_type": "execute_result"
    }
   ],
   "source": [
    "model = None\n",
    "\n",
    "# train the model\n",
    "model = XGBRegressor(n_estimators=10, max_depth=20, verbosity=0)\n",
    "model.fit(x_train, y_train)\n",
    "\n",
    "# extract the training set predictions\n",
    "model.predict(x_train)"
   ]
  },
  {
   "cell_type": "code",
   "execution_count": 13,
   "id": "b31c8a42",
   "metadata": {
    "ExecuteTime": {
     "end_time": "2023-05-11T15:01:02.371393Z",
     "start_time": "2023-05-11T15:00:54.422486Z"
    }
   },
   "outputs": [
    {
     "name": "stdout",
     "output_type": "stream",
     "text": [
      "Training score:  0.9569032537172764\n",
      "Mean cross-validation R2: 0.92\n",
      "K-fold CV average score: 0.92\n",
      "mse:  2175.6315953893154 \n",
      "rmse:  46.643666187268295\n"
     ]
    }
   ],
   "source": [
    "import xgboost as xgb\n",
    "xgbr = xgb.XGBRegressor(verbosity=0) \n",
    "xgbr.fit(x_train, y_train)\n",
    "score = xgbr.score(x_train, y_train)  \n",
    "print(\"Training score: \", score)\n",
    "\n",
    "scores = cross_val_score(xgbr, x_train, y_train,cv=10)\n",
    "print(\"Mean cross-validation R2: %.2f\" % scores.mean())\n",
    "\n",
    "kfold = KFold(n_splits=10, shuffle=True)\n",
    "kf_cv_scores = cross_val_score(xgbr, x_train, y_train, cv=kfold )\n",
    "print(\"K-fold CV average score: %.2f\" % kf_cv_scores.mean())\n",
    "\n",
    "from sklearn.metrics import mean_squared_error\n",
    "ypred = xgbr.predict(x_test)\n",
    "mse = mean_squared_error(y_test, ypred)\n",
    "print(f'mse: ', mse , '\\nrmse: ',mse**(1/2) )"
   ]
  },
  {
   "cell_type": "markdown",
   "id": "1bdca42f",
   "metadata": {},
   "source": [
    "## Hyperparameter optimisation"
   ]
  },
  {
   "cell_type": "code",
   "execution_count": 14,
   "id": "70dae95e",
   "metadata": {
    "ExecuteTime": {
     "end_time": "2023-05-11T15:01:02.387395Z",
     "start_time": "2023-05-11T15:01:02.374393Z"
    }
   },
   "outputs": [],
   "source": [
    "regressor=xgb.XGBRegressor(objective=\"reg:squarederror\")\n",
    "n_estimators = [50,100,500,900,1100,1500]\n",
    "max_depth = [2,3,5,10,15, 20, 25]\n",
    "booster = ['gbtree', 'gblinear']\n",
    "learning_rate = [0.05, 0.1, 0.15, 0.2]\n",
    "min_child_weight = [1,2,3,4,5]\n",
    "base_score = [0.25,0.5,0.75,1]\n",
    "\n",
    "hyperparameter_grid = {\n",
    "    'n_estimators': n_estimators,\n",
    "    'max_depth':max_depth,\n",
    "    'learning_rate':learning_rate,\n",
    "    'min_child_weight':min_child_weight,\n",
    "    'booster':booster,\n",
    "    'base_score':base_score\n",
    "}\n",
    "\n",
    "random_cv= RandomizedSearchCV(estimator=regressor,param_distributions=hyperparameter_grid,\n",
    "                             cv=10, n_iter=5, scoring='neg_mean_absolute_error',\n",
    "                             n_jobs=4, verbose=2, return_train_score=True,\n",
    "                             random_state=123)"
   ]
  },
  {
   "cell_type": "code",
   "execution_count": 15,
   "id": "74a1095b",
   "metadata": {
    "ExecuteTime": {
     "end_time": "2023-05-11T15:04:20.077697Z",
     "start_time": "2023-05-11T15:01:02.390392Z"
    }
   },
   "outputs": [
    {
     "name": "stdout",
     "output_type": "stream",
     "text": [
      "RandomizedSearchCV:   0%|                                                                        | 0/1 [00:00<?, ?it/s]Fitting 10 folds for each of 5 candidates, totalling 50 fits\n",
      "RandomizedSearchCV: 100%|███████████████████████████████████████████████████████████████| 1/1 [03:17<00:00, 197.67s/it]\n",
      "The best hyperparameters are {'n_estimators': 1100, 'min_child_weight': 1, 'max_depth': 10, 'learning_rate': 0.05, 'booster': 'gbtree', 'base_score': 0.75}\n"
     ]
    }
   ],
   "source": [
    "with tqdm(total=1, file=sys.stdout, desc=\"RandomizedSearchCV\") as pbar:\n",
    "        random_result = random_cv.fit(x_train, y_train)\n",
    "        pbar.update(1)\n",
    "    \n",
    "print(f'The best hyperparameters are {random_result.best_params_}')"
   ]
  },
  {
   "cell_type": "code",
   "execution_count": 16,
   "id": "0ae3198e",
   "metadata": {
    "ExecuteTime": {
     "end_time": "2023-05-11T15:04:31.964738Z",
     "start_time": "2023-05-11T15:04:20.077697Z"
    }
   },
   "outputs": [
    {
     "data": {
      "text/plain": [
       "XGBRegressor(base_score=0.75, booster='gbtree', callbacks=None,\n",
       "             colsample_bylevel=1, colsample_bynode=1, colsample_bytree=1,\n",
       "             early_stopping_rounds=None, enable_categorical=False,\n",
       "             eval_metric=None, feature_types=None, gamma=0, gpu_id=None,\n",
       "             grow_policy=None, importance_type=None, interaction_constraints='',\n",
       "             learning_rate=0.05, max_bin=None, max_cat_threshold=None,\n",
       "             max_cat_to_onehot=None, max_delta_step=0, max_depth=10,\n",
       "             max_leaves=None, min_child_weight=1, missing=nan,\n",
       "             monotone_constraints=None, n_estimators=1100, n_jobs=8,\n",
       "             num_parallel_tree=1, predictor='gpu_predictor', random_state=0, ...)"
      ]
     },
     "execution_count": 16,
     "metadata": {},
     "output_type": "execute_result"
    }
   ],
   "source": [
    "# Training with best hyperparameters\n",
    "base_score = 0.75\n",
    "n_estimators = 1100\n",
    "learning_rate = 0.05\n",
    "min_child_weight = 1\n",
    "max_depth = 10\n",
    "booster = 'gbtree'\n",
    "\n",
    "regressor = xgb.XGBRegressor(base_score=base_score, booster=booster, colsample_bylevel=1,colsample_bynode=1,colsample_bytree=1,\n",
    "                             enable_categorical=False,gamma=0, importance_type=None,interaction_constraints='',\n",
    "                             learning_rate=learning_rate, max_delta_step=0,max_depth=max_depth, min_child_weight=min_child_weight,\n",
    "                             n_estimators=n_estimators, n_jobs=8,num_parallel_tree=1, predictor='gpu_predictor',random_state=0,\n",
    "                             reg_alpha=0,reg_lambda=1, scale_pos_weight=1, subsample=1, tree_method='exact',\n",
    "                             validate_parameters=1, verbosity=0)\n",
    "regressor.fit(x_train,y_train)"
   ]
  },
  {
   "cell_type": "code",
   "execution_count": 17,
   "id": "9b7543d5",
   "metadata": {
    "ExecuteTime": {
     "end_time": "2023-05-11T15:06:56.468550Z",
     "start_time": "2023-05-11T15:04:31.967155Z"
    }
   },
   "outputs": [
    {
     "name": "stdout",
     "output_type": "stream",
     "text": [
      "mse:  1315.0647460923954\n",
      "Mean cross-validation R2: 0.93\n",
      "RMSE: 36.263821\n",
      "R_Squared Score : 0.976761\n"
     ]
    }
   ],
   "source": [
    "# Scores\n",
    "ypred = regressor.predict(x_test)\n",
    "mse = mean_squared_error(y_test, ypred)\n",
    "print(f'mse: ', mse)\n",
    "\n",
    "#After training the model, we'll check the model training score.\n",
    "scores = cross_val_score(regressor, x_train, y_train,cv=10)\n",
    "print(\"Mean cross-validation R2: %.2f\" % scores.mean())\n",
    "\n",
    "regressor.fit(x_train,y_train)\n",
    "predictions = regressor.predict(x_test)\n",
    "rmse = np.sqrt(mean_squared_error(y_test, predictions))\n",
    "print(\"RMSE: %f\" % (rmse))\n",
    "\n",
    "from sklearn.metrics import r2_score\n",
    "r2 = np.sqrt(r2_score(y_test, predictions))\n",
    "print(\"R_Squared Score : %f\" % (r2))"
   ]
  },
  {
   "cell_type": "code",
   "execution_count": 18,
   "id": "47949a1e",
   "metadata": {
    "ExecuteTime": {
     "end_time": "2023-05-11T15:06:56.491684Z",
     "start_time": "2023-05-11T15:06:56.469980Z"
    }
   },
   "outputs": [
    {
     "name": "stdout",
     "output_type": "stream",
     "text": [
      "['Pop22', 'Rd_Arte', 'AreaProx', 'FID_grid', 'month', 'day', 'T_Enable', 'LUP_Recre', 'LUP_Resi', 'LUP_Comm'] [0.11015368 0.09830794 0.2322725  0.30966893 0.07854978 0.01685757\n",
      " 0.07441591 0.03705987 0.02893635 0.01377746]\n"
     ]
    }
   ],
   "source": [
    "# get the feature importances\n",
    "importances = regressor.feature_importances_\n",
    "print(features_1, importances)"
   ]
  },
  {
   "cell_type": "code",
   "execution_count": 19,
   "id": "129d7700",
   "metadata": {
    "ExecuteTime": {
     "end_time": "2023-05-11T15:06:56.697088Z",
     "start_time": "2023-05-11T15:06:56.493682Z"
    }
   },
   "outputs": [
    {
     "data": {
      "image/png": "[encoded data removed]",
      "text/plain": [
       "<Figure size 800x500 with 1 Axes>"
      ]
     },
     "metadata": {},
     "output_type": "display_data"
    }
   ],
   "source": [
    "# Get feature importances and plot them\n",
    "result1 = pd.DataFrame({\"features\":features_1, \"importances\":regressor.feature_importances_})\n",
    "result = result1.sort_values(by='importances',ascending=False)\n",
    "plt.figure(figsize=(8,4))\n",
    "sns.barplot(x=result['importances'], y=result['features'], color='blue')\n",
    "plt.xlabel('Feature Importance Score', fontsize='14')\n",
    "plt.ylabel('Features', fontsize='16')\n",
    "plt.rc('xtick', labelsize=12)\n",
    "plt.rc('ytick', labelsize=12)"
   ]
  },
  {
   "cell_type": "markdown",
   "id": "1000e3a9",
   "metadata": {},
   "source": [
    "# Random Forest Model"
   ]
  },
  {
   "cell_type": "code",
   "execution_count": 20,
   "id": "3e04183c",
   "metadata": {
    "ExecuteTime": {
     "end_time": "2023-05-11T15:07:00.357518Z",
     "start_time": "2023-05-11T15:06:56.699088Z"
    }
   },
   "outputs": [
    {
     "name": "stdout",
     "output_type": "stream",
     "text": [
      "Mean squared error: 2371.07\n",
      "R-squared score: 0.92\n"
     ]
    }
   ],
   "source": [
    "from sklearn.ensemble import RandomForestRegressor\n",
    "# Define the Random Forest model\n",
    "rf = RandomForestRegressor()\n",
    "\n",
    "# Fit the regressor to the training data\n",
    "rf.fit(x_train, y_train)\n",
    "\n",
    "# Predict on the test data\n",
    "y_pred = rf.predict(x_test)\n",
    "\n",
    "# Calculate mean squared error and R-squared score on the test data\n",
    "mse = mean_squared_error(y_test, y_pred)\n",
    "r2 = r2_score(y_test, y_pred)\n",
    "\n",
    "# Print the metrics\n",
    "print(\"Mean squared error: {:.2f}\".format(mse))\n",
    "print(\"R-squared score: {:.2f}\".format(r2))"
   ]
  },
  {
   "cell_type": "code",
   "execution_count": 21,
   "id": "ddf208cb",
   "metadata": {
    "ExecuteTime": {
     "end_time": "2023-05-11T15:42:13.466833Z",
     "start_time": "2023-05-11T15:07:00.359520Z"
    },
    "collapsed": true
   },
   "outputs": [
    {
     "name": "stderr",
     "output_type": "stream",
     "text": [
      "  0%|                                                                                           | 0/10 [00:00<?, ?it/s]C:\\Users\\omkarp\\AppData\\Local\\anaconda3\\envs\\omkarp\\lib\\site-packages\\sklearn\\model_selection\\_search.py:285: UserWarning: The total space of parameters 80 is smaller than n_iter=100. Running 80 iterations. For exhaustive searches, use GridSearchCV.\n",
      "  warnings.warn(\n",
      " 10%|████████▏                                                                         | 1/10 [03:55<35:20, 235.63s/it]C:\\Users\\omkarp\\AppData\\Local\\anaconda3\\envs\\omkarp\\lib\\site-packages\\sklearn\\model_selection\\_search.py:285: UserWarning: The total space of parameters 80 is smaller than n_iter=100. Running 80 iterations. For exhaustive searches, use GridSearchCV.\n",
      "  warnings.warn(\n",
      " 20%|████████████████▍                                                                 | 2/10 [07:38<30:23, 227.92s/it]C:\\Users\\omkarp\\AppData\\Local\\anaconda3\\envs\\omkarp\\lib\\site-packages\\sklearn\\model_selection\\_search.py:285: UserWarning: The total space of parameters 80 is smaller than n_iter=100. Running 80 iterations. For exhaustive searches, use GridSearchCV.\n",
      "  warnings.warn(\n",
      " 30%|████████████████████████▌                                                         | 3/10 [11:28<26:43, 229.02s/it]C:\\Users\\omkarp\\AppData\\Local\\anaconda3\\envs\\omkarp\\lib\\site-packages\\sklearn\\model_selection\\_search.py:285: UserWarning: The total space of parameters 80 is smaller than n_iter=100. Running 80 iterations. For exhaustive searches, use GridSearchCV.\n",
      "  warnings.warn(\n",
      " 40%|████████████████████████████████▊                                                 | 4/10 [15:13<22:44, 227.35s/it]C:\\Users\\omkarp\\AppData\\Local\\anaconda3\\envs\\omkarp\\lib\\site-packages\\sklearn\\model_selection\\_search.py:285: UserWarning: The total space of parameters 80 is smaller than n_iter=100. Running 80 iterations. For exhaustive searches, use GridSearchCV.\n",
      "  warnings.warn(\n",
      " 50%|█████████████████████████████████████████                                         | 5/10 [18:37<18:15, 219.19s/it]C:\\Users\\omkarp\\AppData\\Local\\anaconda3\\envs\\omkarp\\lib\\site-packages\\sklearn\\model_selection\\_search.py:285: UserWarning: The total space of parameters 80 is smaller than n_iter=100. Running 80 iterations. For exhaustive searches, use GridSearchCV.\n",
      "  warnings.warn(\n",
      " 60%|█████████████████████████████████████████████████▏                                | 6/10 [21:56<14:09, 212.29s/it]C:\\Users\\omkarp\\AppData\\Local\\anaconda3\\envs\\omkarp\\lib\\site-packages\\sklearn\\model_selection\\_search.py:285: UserWarning: The total space of parameters 80 is smaller than n_iter=100. Running 80 iterations. For exhaustive searches, use GridSearchCV.\n",
      "  warnings.warn(\n",
      " 70%|█████████████████████████████████████████████████████████▍                        | 7/10 [25:16<10:24, 208.24s/it]C:\\Users\\omkarp\\AppData\\Local\\anaconda3\\envs\\omkarp\\lib\\site-packages\\sklearn\\model_selection\\_search.py:285: UserWarning: The total space of parameters 80 is smaller than n_iter=100. Running 80 iterations. For exhaustive searches, use GridSearchCV.\n",
      "  warnings.warn(\n",
      " 80%|█████████████████████████████████████████████████████████████████▌                | 8/10 [28:36<06:50, 205.48s/it]C:\\Users\\omkarp\\AppData\\Local\\anaconda3\\envs\\omkarp\\lib\\site-packages\\sklearn\\model_selection\\_search.py:285: UserWarning: The total space of parameters 80 is smaller than n_iter=100. Running 80 iterations. For exhaustive searches, use GridSearchCV.\n",
      "  warnings.warn(\n",
      " 90%|█████████████████████████████████████████████████████████████████████████▊        | 9/10 [31:54<03:23, 203.23s/it]C:\\Users\\omkarp\\AppData\\Local\\anaconda3\\envs\\omkarp\\lib\\site-packages\\sklearn\\model_selection\\_search.py:285: UserWarning: The total space of parameters 80 is smaller than n_iter=100. Running 80 iterations. For exhaustive searches, use GridSearchCV.\n",
      "  warnings.warn(\n",
      "100%|█████████████████████████████████████████████████████████████████████████████████| 10/10 [35:13<00:00, 211.31s/it]"
     ]
    },
    {
     "name": "stdout",
     "output_type": "stream",
     "text": [
      "Best Hyperparameters:  {'n_estimators': 150, 'max_features': 9, 'max_depth': 9}\n"
     ]
    },
    {
     "name": "stderr",
     "output_type": "stream",
     "text": [
      "\n"
     ]
    }
   ],
   "source": [
    "# Define the parameter grid\n",
    "param_dist = {'n_estimators': [100, 150, 200, 250],\n",
    "              'max_depth': list(np.arange(1, len(features_1), 2)),\n",
    "              'max_features': list(np.arange(3, len(features_1), 2))}\n",
    "\n",
    "# Run randomized search\n",
    "random_search = RandomizedSearchCV(rf, param_distributions=param_dist, n_iter=100, cv=10, n_jobs=-1)\n",
    "\n",
    "# Fit the model on the data\n",
    "with tqdm(total=1) as pbar:\n",
    "        random_search.fit(x_train, y_train)\n",
    "        pbar.update(1)\n",
    "\n",
    "# Print the best hyperparameters\n",
    "print(\"Best Hyperparameters: \", random_search.best_params_)"
   ]
  },
  {
   "cell_type": "code",
   "execution_count": 23,
   "id": "5ea17354",
   "metadata": {
    "ExecuteTime": {
     "end_time": "2023-05-11T17:49:10.237485Z",
     "start_time": "2023-05-11T17:49:08.133312Z"
    }
   },
   "outputs": [
    {
     "name": "stdout",
     "output_type": "stream",
     "text": [
      "Mean squared error: 4237.26\n",
      "R-squared score: 0.85\n",
      "RMSE: 36.26\n"
     ]
    }
   ],
   "source": [
    "# Define the best hyperparameters found by GridSearchCV\n",
    "best_params = {'max_depth': 9, 'max_features': 9, 'n_estimators': 150}\n",
    "\n",
    "# Create a random forest regressor with the best hyperparameters\n",
    "rf = RandomForestRegressor(**best_params, random_state=42)\n",
    "\n",
    "# Fit the regressor to the training data\n",
    "rf.fit(x_train, y_train)\n",
    "\n",
    "# Predict on the test data\n",
    "y_pred = rf.predict(x_test)\n",
    "\n",
    "# Calculate mean squared error and R-squared score on the test data\n",
    "mse = mean_squared_error(y_test, y_pred)\n",
    "r2 = r2_score(y_test, y_pred)\n",
    "\n",
    "# Print the metrics\n",
    "print(\"Mean squared error: {:.2f}\".format(mse))\n",
    "print(\"R-squared score: {:.2f}\".format(r2))\n",
    "print(f\"RMSE: {rmse:.2f}\")\n",
    "# mean_score = np.mean(scores)\n",
    "#scores = cross_val_score(rf, X, y, cv=10, scoring='r2')\n",
    "# print(f\"Mean cross-validation R2: {mean_score:.2f}\")"
   ]
  },
  {
   "cell_type": "code",
   "execution_count": 32,
   "id": "6528def8",
   "metadata": {
    "ExecuteTime": {
     "end_time": "2023-05-11T18:09:20.646392Z",
     "start_time": "2023-05-11T18:08:56.380075Z"
    }
   },
   "outputs": [
    {
     "name": "stdout",
     "output_type": "stream",
     "text": [
      "Fold 1 R2 score: 0.86\n",
      "Fold 2 R2 score: 0.87\n",
      "Fold 3 R2 score: 0.85\n",
      "Fold 4 R2 score: 0.87\n",
      "Fold 5 R2 score: 0.85\n",
      "Fold 6 R2 score: 0.45\n",
      "Fold 7 R2 score: 0.78\n",
      "Fold 8 R2 score: 0.86\n",
      "Fold 9 R2 score: 0.87\n",
      "Fold 10 R2 score: 0.86\n",
      "Mean test R2 score: 0.81\n"
     ]
    }
   ],
   "source": [
    "# Perform 10-fold cross-validation\n",
    "cv_results = cross_validate(rf, X, y, cv=10, scoring='r2', return_estimator=True)\n",
    "\n",
    "# Extract the estimators from each fold\n",
    "estimators = cv_results['estimator']\n",
    "\n",
    "# Calculate the R2 score for each fold using the test data\n",
    "test_scores = []\n",
    "for i, estimator in enumerate(estimators):\n",
    "    y_pred = estimator.predict(x_test)\n",
    "    score = r2_score(y_test, y_pred)\n",
    "    test_scores.append(score)\n",
    "    print(f\"Fold {i+1} R2 score: {score:.2f}\")\n",
    "\n",
    "# Print the average R2 score across all folds for the test data\n",
    "print(f\"Mean test R2 score: {np.mean(test_scores):.2f}\")"
   ]
  },
  {
   "cell_type": "code",
   "execution_count": 24,
   "id": "273ddd88",
   "metadata": {
    "ExecuteTime": {
     "end_time": "2023-05-11T17:49:12.598539Z",
     "start_time": "2023-05-11T17:49:12.570956Z"
    }
   },
   "outputs": [
    {
     "name": "stdout",
     "output_type": "stream",
     "text": [
      "['Pop22', 'Rd_Arte', 'AreaProx', 'FID_grid', 'month', 'day', 'T_Enable', 'LUP_Recre', 'LUP_Resi', 'LUP_Comm'] [0.20145328 0.07162819 0.21268805 0.22390375 0.23272043 0.02560797\n",
      " 0.01020491 0.01516259 0.00282831 0.00380251]\n"
     ]
    }
   ],
   "source": [
    "# get the feature importances\n",
    "importances = rf.feature_importances_\n",
    "print(features_1, importances)"
   ]
  },
  {
   "cell_type": "code",
   "execution_count": 26,
   "id": "8bbbdaae",
   "metadata": {
    "ExecuteTime": {
     "end_time": "2023-05-11T17:49:23.939111Z",
     "start_time": "2023-05-11T17:49:23.827382Z"
    }
   },
   "outputs": [
    {
     "data": {
      "image/png": "[encoded data removed]",
      "text/plain": [
       "<Figure size 800x400 with 1 Axes>"
      ]
     },
     "metadata": {},
     "output_type": "display_data"
    }
   ],
   "source": [
    "# Get feature importances and plot them\n",
    "result1 = pd.DataFrame({\"features\":features_1, \"importances\":rf.feature_importances_})\n",
    "result = result1.sort_values(by='importances',ascending=False)\n",
    "plt.figure(figsize=(8,4))\n",
    "sns.barplot(x=result['importances'], y=result['features'], color='blue')\n",
    "plt.xlabel('Feature Importance Score', fontsize='14')\n",
    "plt.ylabel('Features', fontsize='16')\n",
    "plt.rc('xtick', labelsize=12)\n",
    "plt.rc('ytick', labelsize=12)"
   ]
  },
  {
   "cell_type": "markdown",
   "id": "4aaa19fe",
   "metadata": {},
   "source": [
    "**Comparative stats**"
   ]
  },
  {
   "cell_type": "markdown",
   "id": "c14497a8",
   "metadata": {},
   "source": [
    "**XG-Boost Model** \n",
    "- mse:  1315.0647460923954\n",
    "- Mean cross-validation R2: 0.93\n",
    "- RMSE: 36.263821\n",
    "- R_squared score : 0.976761"
   ]
  },
  {
   "cell_type": "markdown",
   "id": "ae8af0aa",
   "metadata": {},
   "source": [
    "**Random Forest Model**\n",
    "- MSE: 4237.26\n",
    "- Mean cross-validation R2: 0.81\n",
    "- RMSE: 36.26\n",
    "- R-squared score: 0.85"
   ]
  },
  {
   "cell_type": "code",
   "execution_count": null,
   "id": "b969f3cc",
   "metadata": {},
   "outputs": [],
   "source": []
  }
 ],
 "metadata": {
  "kernelspec": {
   "display_name": "omkarp",
   "language": "python",
   "name": "omkarp"
  },
  "language_info": {
   "codemirror_mode": {
    "name": "ipython",
    "version": 3
   },
   "file_extension": ".py",
   "mimetype": "text/x-python",
   "name": "python",
   "nbconvert_exporter": "python",
   "pygments_lexer": "ipython3",
   "version": "3.9.16"
  },
  "toc": {
   "base_numbering": 1,
   "nav_menu": {},
   "number_sections": true,
   "sideBar": true,
   "skip_h1_title": false,
   "title_cell": "Table of Contents",
   "title_sidebar": "Contents",
   "toc_cell": false,
   "toc_position": {},
   "toc_section_display": true,
   "toc_window_display": false
  }
 },
 "nbformat": 4,
 "nbformat_minor": 5
}
